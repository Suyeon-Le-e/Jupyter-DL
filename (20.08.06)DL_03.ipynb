{
 "cells": [
  {
   "cell_type": "code",
   "execution_count": 1,
   "metadata": {},
   "outputs": [],
   "source": [
    "import torch\n",
    "import torch.nn as nn\n",
    "import torch.nn.functional as F\n",
    "import torch.optim as optim"
   ]
  },
  {
   "cell_type": "code",
   "execution_count": 12,
   "metadata": {},
   "outputs": [],
   "source": [
    "from torch.utils.data import Dataset\n",
    "from torch.utils.data import DataLoader"
   ]
  },
  {
   "cell_type": "code",
   "execution_count": 13,
   "metadata": {},
   "outputs": [
    {
     "data": {
      "text/plain": [
       "<torch._C.Generator at 0x2122f5b38d0>"
      ]
     },
     "execution_count": 13,
     "metadata": {},
     "output_type": "execute_result"
    }
   ],
   "source": [
    "torch.manual_seed(1)"
   ]
  },
  {
   "cell_type": "code",
   "execution_count": 14,
   "metadata": {},
   "outputs": [],
   "source": [
    "x_train = torch.FloatTensor([[1], [2], [3]])\n",
    "y_train = torch.FloatTensor([[2], [4], [6]])"
   ]
  },
  {
   "cell_type": "code",
   "execution_count": 15,
   "metadata": {},
   "outputs": [],
   "source": [
    "model = nn.Linear(1,1)"
   ]
  },
  {
   "cell_type": "code",
   "execution_count": 16,
   "metadata": {},
   "outputs": [],
   "source": [
    "optimizer = torch.optim.SGD(model.parameters(), lr=0.01) "
   ]
  },
  {
   "cell_type": "code",
   "execution_count": 17,
   "metadata": {},
   "outputs": [
    {
     "name": "stdout",
     "output_type": "stream",
     "text": [
      "Epoch    0/2000 Cost: 13.103541\n",
      "Epoch  100/2000 Cost: 0.002791\n",
      "Epoch  200/2000 Cost: 0.001724\n",
      "Epoch  300/2000 Cost: 0.001066\n",
      "Epoch  400/2000 Cost: 0.000658\n",
      "Epoch  500/2000 Cost: 0.000407\n",
      "Epoch  600/2000 Cost: 0.000251\n",
      "Epoch  700/2000 Cost: 0.000155\n",
      "Epoch  800/2000 Cost: 0.000096\n",
      "Epoch  900/2000 Cost: 0.000059\n",
      "Epoch 1000/2000 Cost: 0.000037\n",
      "Epoch 1100/2000 Cost: 0.000023\n",
      "Epoch 1200/2000 Cost: 0.000014\n",
      "Epoch 1300/2000 Cost: 0.000009\n",
      "Epoch 1400/2000 Cost: 0.000005\n",
      "Epoch 1500/2000 Cost: 0.000003\n",
      "Epoch 1600/2000 Cost: 0.000002\n",
      "Epoch 1700/2000 Cost: 0.000001\n",
      "Epoch 1800/2000 Cost: 0.000001\n",
      "Epoch 1900/2000 Cost: 0.000000\n",
      "Epoch 2000/2000 Cost: 0.000000\n"
     ]
    }
   ],
   "source": [
    "nb_epochs = 2000\n",
    "for epoch in range(nb_epochs+1):\n",
    "\n",
    "    # H(x) 계산\n",
    "    prediction = model(x_train)\n",
    "\n",
    "    # cost 계산\n",
    "    cost = F.mse_loss(prediction, y_train) # <== 파이토치에서 제공하는 평균 제곱 오차 함수\n",
    "\n",
    "    # cost로 H(x) 개선하는 부분\n",
    "    # gradient를 0으로 초기화\n",
    "    optimizer.zero_grad()\n",
    "    # 비용 함수를 미분하여 gradient 계산\n",
    "    cost.backward() # backward 연산\n",
    "    # W와 b를 업데이트\n",
    "    optimizer.step()\n",
    "\n",
    "    if epoch % 100 == 0:\n",
    "    # 100번마다 로그 출력\n",
    "      print('Epoch {:4d}/{} Cost: {:.6f}'.format(\n",
    "          epoch, nb_epochs, cost.item()\n",
    "      ))"
   ]
  },
  {
   "cell_type": "code",
   "execution_count": 7,
   "metadata": {},
   "outputs": [],
   "source": [
    "x_train = torch.FloatTensor([[73, 80, 75],\n",
    "                             [93, 88, 93],\n",
    "                             [89, 91, 90],\n",
    "                             [96, 98, 100],\n",
    "                             [73, 66, 70]])\n",
    "y_train = torch.FloatTensor([[152], [185], [180], [196], [142]])"
   ]
  },
  {
   "cell_type": "code",
   "execution_count": 8,
   "metadata": {},
   "outputs": [],
   "source": [
    "model = nn.Linear(3,1)"
   ]
  },
  {
   "cell_type": "code",
   "execution_count": 9,
   "metadata": {},
   "outputs": [],
   "source": [
    "optimizer = torch.optim.SGD(model.parameters(), lr=1e-5) "
   ]
  },
  {
   "cell_type": "code",
   "execution_count": 10,
   "metadata": {},
   "outputs": [
    {
     "name": "stdout",
     "output_type": "stream",
     "text": [
      "Epoch    0/2000 Cost: 42134.703125\n",
      "Epoch  100/2000 Cost: 5.960053\n",
      "Epoch  200/2000 Cost: 5.654707\n",
      "Epoch  300/2000 Cost: 5.365413\n",
      "Epoch  400/2000 Cost: 5.091429\n",
      "Epoch  500/2000 Cost: 4.831834\n",
      "Epoch  600/2000 Cost: 4.585997\n",
      "Epoch  700/2000 Cost: 4.353075\n",
      "Epoch  800/2000 Cost: 4.132411\n",
      "Epoch  900/2000 Cost: 3.923456\n",
      "Epoch 1000/2000 Cost: 3.725502\n",
      "Epoch 1100/2000 Cost: 3.537972\n",
      "Epoch 1200/2000 Cost: 3.360325\n",
      "Epoch 1300/2000 Cost: 3.192056\n",
      "Epoch 1400/2000 Cost: 3.032674\n",
      "Epoch 1500/2000 Cost: 2.881700\n",
      "Epoch 1600/2000 Cost: 2.738672\n",
      "Epoch 1700/2000 Cost: 2.603201\n",
      "Epoch 1800/2000 Cost: 2.474846\n",
      "Epoch 1900/2000 Cost: 2.353286\n",
      "Epoch 2000/2000 Cost: 2.238110\n"
     ]
    }
   ],
   "source": [
    "nb_epochs = 2000\n",
    "for epoch in range(nb_epochs+1):\n",
    "\n",
    "    # H(x) 계산\n",
    "    prediction = model(x_train)\n",
    "    # model(x_train)은 model.forward(x_train)와 동일함.\n",
    "\n",
    "    # cost 계산\n",
    "    cost = F.mse_loss(prediction, y_train) # <== 파이토치에서 제공하는 평균 제곱 오차 함수\n",
    "\n",
    "    # cost로 H(x) 개선하는 부분\n",
    "    # gradient를 0으로 초기화\n",
    "    optimizer.zero_grad()\n",
    "    # 비용 함수를 미분하여 gradient 계산\n",
    "    cost.backward()\n",
    "    # W와 b를 업데이트\n",
    "    optimizer.step()\n",
    "\n",
    "    if epoch % 100 == 0:\n",
    "    # 100번마다 로그 출력\n",
    "      print('Epoch {:4d}/{} Cost: {:.6f}'.format(\n",
    "          epoch, nb_epochs, cost.item()\n",
    "      ))"
   ]
  },
  {
   "cell_type": "code",
   "execution_count": 18,
   "metadata": {},
   "outputs": [],
   "source": [
    "class CustomDataset(Dataset):\n",
    "    def __init__(self):\n",
    "        self.x_data = [[73, 80, 75],\n",
    "                       [93, 88, 93],\n",
    "                       [89, 91, 90],\n",
    "                       [96, 98, 100],\n",
    "                       [73, 66, 70]]\n",
    "        self.y_data = [[152], [185], [180], [196], [142]]\n",
    "\n",
    "    def __len__(self):\n",
    "        return len(self.x_data)\n",
    "    \n",
    "    def __getitem__(self, idx):\n",
    "        x = torch.FloatTensor(self.x_data[idx])\n",
    "        y = torch.FloatTensor(self.y_data[idx])\n",
    "        return x, y\n"
   ]
  },
  {
   "cell_type": "code",
   "execution_count": 19,
   "metadata": {},
   "outputs": [],
   "source": [
    "dataset = CustomDataset()\n",
    "dataloader = DataLoader(dataset, batch_size=2, shuffle=True)"
   ]
  },
  {
   "cell_type": "code",
   "execution_count": 20,
   "metadata": {},
   "outputs": [],
   "source": [
    "model = torch.nn.Linear(3,1)\n",
    "optimizer = torch.optim.SGD(model.parameters(), lr=1e-5) "
   ]
  },
  {
   "cell_type": "code",
   "execution_count": 21,
   "metadata": {},
   "outputs": [
    {
     "name": "stdout",
     "output_type": "stream",
     "text": [
      "Epoch    0/20 Batch 1/3 Cost: 39037.562500\n",
      "Epoch    0/20 Batch 2/3 Cost: 13691.992188\n",
      "Epoch    0/20 Batch 3/3 Cost: 6809.494629\n",
      "Epoch    1/20 Batch 1/3 Cost: 1260.497314\n",
      "Epoch    1/20 Batch 2/3 Cost: 183.465393\n",
      "Epoch    1/20 Batch 3/3 Cost: 18.052385\n",
      "Epoch    2/20 Batch 1/3 Cost: 17.598337\n",
      "Epoch    2/20 Batch 2/3 Cost: 37.042755\n",
      "Epoch    2/20 Batch 3/3 Cost: 29.556118\n",
      "Epoch    3/20 Batch 1/3 Cost: 7.860090\n",
      "Epoch    3/20 Batch 2/3 Cost: 11.487422\n",
      "Epoch    3/20 Batch 3/3 Cost: 2.850438\n",
      "Epoch    4/20 Batch 1/3 Cost: 7.229070\n",
      "Epoch    4/20 Batch 2/3 Cost: 5.413743\n",
      "Epoch    4/20 Batch 3/3 Cost: 11.790195\n",
      "Epoch    5/20 Batch 1/3 Cost: 0.382623\n",
      "Epoch    5/20 Batch 2/3 Cost: 9.864450\n",
      "Epoch    5/20 Batch 3/3 Cost: 13.690768\n",
      "Epoch    6/20 Batch 1/3 Cost: 5.309200\n",
      "Epoch    6/20 Batch 2/3 Cost: 9.277973\n",
      "Epoch    6/20 Batch 3/3 Cost: 17.145155\n",
      "Epoch    7/20 Batch 1/3 Cost: 6.532255\n",
      "Epoch    7/20 Batch 2/3 Cost: 4.706014\n",
      "Epoch    7/20 Batch 3/3 Cost: 12.355757\n",
      "Epoch    8/20 Batch 1/3 Cost: 7.536339\n",
      "Epoch    8/20 Batch 2/3 Cost: 6.805541\n",
      "Epoch    8/20 Batch 3/3 Cost: 14.314704\n",
      "Epoch    9/20 Batch 1/3 Cost: 4.163507\n",
      "Epoch    9/20 Batch 2/3 Cost: 9.495129\n",
      "Epoch    9/20 Batch 3/3 Cost: 12.737218\n",
      "Epoch   10/20 Batch 1/3 Cost: 5.547931\n",
      "Epoch   10/20 Batch 2/3 Cost: 3.931878\n",
      "Epoch   10/20 Batch 3/3 Cost: 14.743580\n",
      "Epoch   11/20 Batch 1/3 Cost: 6.955369\n",
      "Epoch   11/20 Batch 2/3 Cost: 9.283313\n",
      "Epoch   11/20 Batch 3/3 Cost: 0.229606\n",
      "Epoch   12/20 Batch 1/3 Cost: 9.143074\n",
      "Epoch   12/20 Batch 2/3 Cost: 6.099346\n",
      "Epoch   12/20 Batch 3/3 Cost: 0.445795\n",
      "Epoch   13/20 Batch 1/3 Cost: 9.247993\n",
      "Epoch   13/20 Batch 2/3 Cost: 4.994125\n",
      "Epoch   13/20 Batch 3/3 Cost: 4.643823\n",
      "Epoch   14/20 Batch 1/3 Cost: 6.669116\n",
      "Epoch   14/20 Batch 2/3 Cost: 4.223984\n",
      "Epoch   14/20 Batch 3/3 Cost: 14.469378\n",
      "Epoch   15/20 Batch 1/3 Cost: 6.148116\n",
      "Epoch   15/20 Batch 2/3 Cost: 9.104980\n",
      "Epoch   15/20 Batch 3/3 Cost: 1.297025\n",
      "Epoch   16/20 Batch 1/3 Cost: 8.902846\n",
      "Epoch   16/20 Batch 2/3 Cost: 1.702543\n",
      "Epoch   16/20 Batch 3/3 Cost: 11.801305\n",
      "Epoch   17/20 Batch 1/3 Cost: 3.916699\n",
      "Epoch   17/20 Batch 2/3 Cost: 5.305335\n",
      "Epoch   17/20 Batch 3/3 Cost: 13.442020\n",
      "Epoch   18/20 Batch 1/3 Cost: 2.904107\n",
      "Epoch   18/20 Batch 2/3 Cost: 16.162300\n",
      "Epoch   18/20 Batch 3/3 Cost: 5.080231\n",
      "Epoch   19/20 Batch 1/3 Cost: 6.531515\n",
      "Epoch   19/20 Batch 2/3 Cost: 8.906374\n",
      "Epoch   19/20 Batch 3/3 Cost: 0.304050\n",
      "Epoch   20/20 Batch 1/3 Cost: 4.850803\n",
      "Epoch   20/20 Batch 2/3 Cost: 8.779476\n",
      "Epoch   20/20 Batch 3/3 Cost: 9.013922\n"
     ]
    }
   ],
   "source": [
    "nb_epochs = 20\n",
    "for epoch in range(nb_epochs + 1):\n",
    "  for batch_idx, samples in enumerate(dataloader):\n",
    "    # print(batch_idx)\n",
    "    # print(samples)\n",
    "    x_train, y_train = samples\n",
    "    # H(x) 계산\n",
    "    prediction = model(x_train)\n",
    "\n",
    "    # cost 계산\n",
    "    cost = F.mse_loss(prediction, y_train)\n",
    "\n",
    "    # cost로 H(x) 계산\n",
    "    optimizer.zero_grad()\n",
    "    cost.backward()\n",
    "    optimizer.step()\n",
    "\n",
    "    print('Epoch {:4d}/{} Batch {}/{} Cost: {:.6f}'.format(\n",
    "        epoch, nb_epochs, batch_idx+1, len(dataloader),\n",
    "        cost.item()\n",
    "        ))"
   ]
  },
  {
   "cell_type": "code",
   "execution_count": null,
   "metadata": {},
   "outputs": [],
   "source": []
  }
 ],
 "metadata": {
  "kernelspec": {
   "display_name": "Python 3",
   "language": "python",
   "name": "python3"
  },
  "language_info": {
   "codemirror_mode": {
    "name": "ipython",
    "version": 3
   },
   "file_extension": ".py",
   "mimetype": "text/x-python",
   "name": "python",
   "nbconvert_exporter": "python",
   "pygments_lexer": "ipython3",
   "version": "3.7.7"
  }
 },
 "nbformat": 4,
 "nbformat_minor": 4
}
